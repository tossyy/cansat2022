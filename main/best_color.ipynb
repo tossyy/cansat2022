{
 "cells": [
  {
   "cell_type": "code",
   "execution_count": 6,
   "metadata": {},
   "outputs": [
    {
     "data": {
      "image/png": "[encoded data removed]",
      "text/plain": [
       "<Figure size 432x288 with 1 Axes>"
      ]
     },
     "metadata": {
      "needs_background": "light"
     },
     "output_type": "display_data"
    },
    {
     "data": {
      "image/png": "[encoded data removed]",
      "text/plain": [
       "<Figure size 1800x1800 with 11 Axes>"
      ]
     },
     "metadata": {
      "needs_background": "light"
     },
     "output_type": "display_data"
    }
   ],
   "source": [
    "import matplotlib.pyplot as plt\n",
    "import cv2\n",
    "import numpy as np\n",
    "\n",
    "\n",
    "def get_mask(path):\n",
    "\n",
    "    img = cv2.imread(path) # 画像を読み込む\n",
    "\n",
    "    height, width = img.shape[:2] # 画像のサイズを取得する\n",
    "\n",
    "    hsv = cv2.cvtColor(img, cv2.COLOR_BGR2HSV) # 色基準で2値化する\n",
    "\n",
    "    # 色の範囲を指定する #を調整0~255\n",
    "    hsv_min = np.array([0,127,100]) #\n",
    "    hsv_max = np.array([30,255,255]) #\n",
    "    mask1 = cv2.inRange(hsv, hsv_min, hsv_max)\n",
    "\n",
    "    # 赤色のHSVの値域2\n",
    "    hsv_min = np.array([150,127,150]) #\n",
    "    hsv_max = np.array([179,255,255]) #\n",
    "    mask2 = cv2.inRange(hsv, hsv_min, hsv_max)\n",
    "\n",
    "    # 指定した色に基づいたマスク画像の生成\n",
    "    # mask1 = cv2.inRange(hsv, lower_color1, upper_color1)\n",
    "    mask = mask1 +  mask2\n",
    "\n",
    "    return mask\n",
    "\n",
    "mask = get_mask(\"/Users/k.sakamoto/Desktop/imgs/image000.jpg\") #一番コーンが綺麗に写ってる\n",
    "plt.imshow(mask)\n",
    "\n",
    "n = 9\n",
    "fig, ax = plt.subplots(1, 11, figsize=(25,25)) #nを変えて写真の枚数に合わせる。今回は9*9=81枚\n",
    "ax = ax.ravel()\n",
    "for i, a in enumerate(ax):\n",
    "    a.imshow(get_mask(\"/Users/k.sakamoto/Desktop/imgs/image{:>03d}.jpg\".format(i))) #いっぱい写真が入っているフォルダ\n",
    "plt.show()"
   ]
  }
 ],
 "metadata": {
  "kernelspec": {
   "display_name": "Python 3.10.5 ('space')",
   "language": "python",
   "name": "python3"
  },
  "language_info": {
   "codemirror_mode": {
    "name": "ipython",
    "version": 3
   },
   "file_extension": ".py",
   "mimetype": "text/x-python",
   "name": "python",
   "nbconvert_exporter": "python",
   "pygments_lexer": "ipython3",
   "version": "3.10.5"
  },
  "orig_nbformat": 4,
  "vscode": {
   "interpreter": {
    "hash": "50023ea899754dd0b515d4e679aaa47340d492e440d7e1f85fec8686b3e592c1"
   }
  }
 },
 "nbformat": 4,
 "nbformat_minor": 2
}
